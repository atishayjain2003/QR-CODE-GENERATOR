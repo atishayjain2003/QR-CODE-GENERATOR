{
 "cells": [
  {
   "cell_type": "code",
   "execution_count": null,
   "id": "9e66f35f",
   "metadata": {},
   "outputs": [
    {
     "name": "stdout",
     "output_type": "stream",
     "text": [
      "Enter link for qr codehttps://github.com/atishayjain2003\n"
     ]
    }
   ],
   "source": [
    "import qrcode as qr \n",
    "link=input(\"Enter link for qr code\")\n",
    "path=\"C:\\\\Users\\\\DELL\\\\Desktop\\\\QR CODE GENERATOR\\\\\"#entering the path where you want to store the file\n",
    "#use double back slash to avoid erros \n",
    "x=input(\"Enter name of QR code along with extension (.png)\")\n",
    "path1=path + x\n",
    "y=qr.make(link)\n",
    "y.save(path1, format=\"png\")"
   ]
  },
  {
   "cell_type": "code",
   "execution_count": null,
   "id": "8b5b0b78",
   "metadata": {},
   "outputs": [],
   "source": []
  }
 ],
 "metadata": {
  "kernelspec": {
   "display_name": "Python 3 (ipykernel)",
   "language": "python",
   "name": "python3"
  },
  "language_info": {
   "codemirror_mode": {
    "name": "ipython",
    "version": 3
   },
   "file_extension": ".py",
   "mimetype": "text/x-python",
   "name": "python",
   "nbconvert_exporter": "python",
   "pygments_lexer": "ipython3",
   "version": "3.9.12"
  }
 },
 "nbformat": 4,
 "nbformat_minor": 5
}
